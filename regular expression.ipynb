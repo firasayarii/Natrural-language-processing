{
 "cells": [
  {
   "cell_type": "code",
   "execution_count": 1,
   "id": "0526f46f",
   "metadata": {},
   "outputs": [],
   "source": [
    "import re"
   ]
  },
  {
   "cell_type": "markdown",
   "id": "324f32fd",
   "metadata": {},
   "source": [
    "### phone number pattern :"
   ]
  },
  {
   "cell_type": "code",
   "execution_count": 2,
   "id": "3263c94b",
   "metadata": {},
   "outputs": [],
   "source": [
    "chat1 = 'codebasics: you ask lot of questions 😠  1235678912, abc@xyz.com'\n",
    "chat2 = 'codebasics: here it is: (123)-567-8912, abc@xyz.com'\n",
    "chat3 = 'codebasics: yes, phone: 1235678912 email: abc@xyz.com'"
   ]
  },
  {
   "cell_type": "code",
   "execution_count": 12,
   "id": "c3c34cb0",
   "metadata": {},
   "outputs": [
    {
     "data": {
      "text/plain": [
       "['(123)-567-8912']"
      ]
     },
     "execution_count": 12,
     "metadata": {},
     "output_type": "execute_result"
    }
   ],
   "source": [
    "pattern = '\\d{10}|\\(\\d{3}\\)-\\d{3}-\\d{4}'\n",
    "matches = re.findall(pattern,chat2)\n",
    "matches"
   ]
  },
  {
   "cell_type": "markdown",
   "id": "bbbe8270",
   "metadata": {},
   "source": [
    "### E-mail pattern : "
   ]
  },
  {
   "cell_type": "code",
   "execution_count": 13,
   "id": "a2e02938",
   "metadata": {},
   "outputs": [
    {
     "data": {
      "text/plain": [
       "['abc@xyz.com']"
      ]
     },
     "execution_count": 13,
     "metadata": {},
     "output_type": "execute_result"
    }
   ],
   "source": [
    "pattern2='[a-zA-Z0-9_]*@[a-z]*\\.[a-zA-Z0-9]*'\n",
    "matches = re.findall(pattern2,chat2)\n",
    "matches"
   ]
  },
  {
   "cell_type": "markdown",
   "id": "b7c62fd5",
   "metadata": {},
   "source": [
    "### order number pattern:"
   ]
  },
  {
   "cell_type": "code",
   "execution_count": 14,
   "id": "0819e06f",
   "metadata": {},
   "outputs": [],
   "source": [
    "chat1='codebasics: Hello, I am having an issue with my order # 412889912'\n",
    "chat2='codebasics: I have a problem with my order number 412889912'\n",
    "chat3='codebasics: My order 412889912 is having an issue, I was charged 300$ when online it'"
   ]
  },
  {
   "cell_type": "code",
   "execution_count": 17,
   "id": "426388ab",
   "metadata": {},
   "outputs": [
    {
     "data": {
      "text/plain": [
       "['412889912']"
      ]
     },
     "execution_count": 17,
     "metadata": {},
     "output_type": "execute_result"
    }
   ],
   "source": [
    "pattern3=\"order[^\\d]*(\\d*)\"\n",
    "order = re.findall(pattern3,chat1)\n",
    "order"
   ]
  },
  {
   "cell_type": "markdown",
   "id": "f62df6e6",
   "metadata": {},
   "source": [
    "### Extract personal information :"
   ]
  },
  {
   "cell_type": "code",
   "execution_count": 18,
   "id": "69565b2c",
   "metadata": {},
   "outputs": [],
   "source": [
    "\n",
    "text='''\n",
    "Born\tElon Reeve Musk\n",
    "June 28, 1971 (age 50)\n",
    "Pretoria, Transvaal, South Africa\n",
    "Citizenship\t\n",
    "South Africa (1971–present)\n",
    "Canada (1971–present)\n",
    "United States (2002–present)\n",
    "Education\tUniversity of Pennsylvania (BS, BA)\n",
    "Title\t\n",
    "Founder, CEO and Chief Engineer of SpaceX\n",
    "CEO and product architect of Tesla, Inc.\n",
    "Founder of The Boring Company and X.com (now part of PayPal)\n",
    "Co-founder of Neuralink, OpenAI, and Zip2\n",
    "Spouse(s)\t\n",
    "Justine Wilson\n",
    "​\n",
    "​(m. 2000; div. 2008)​\n",
    "Talulah Riley\n",
    "​\n",
    "​(m. 2010; div. 2012)​\n",
    "​\n",
    "​(m. 2013; div. 2016)\n",
    "'''"
   ]
  },
  {
   "cell_type": "code",
   "execution_count": 20,
   "id": "e7c3fd35",
   "metadata": {},
   "outputs": [
    {
     "data": {
      "text/plain": [
       "['50']"
      ]
     },
     "execution_count": 20,
     "metadata": {},
     "output_type": "execute_result"
    }
   ],
   "source": [
    "age_pattern='age (\\d*)'\n",
    "age=re.findall(age_pattern,text)\n",
    "age"
   ]
  },
  {
   "cell_type": "code",
   "execution_count": 21,
   "id": "8fa1ba42",
   "metadata": {},
   "outputs": [
    {
     "data": {
      "text/plain": [
       "['Elon Reeve Musk']"
      ]
     },
     "execution_count": 21,
     "metadata": {},
     "output_type": "execute_result"
    }
   ],
   "source": [
    "name_pattern=\"Born.(.*)\"\n",
    "name=re.findall(name_pattern,text)\n",
    "name"
   ]
  },
  {
   "cell_type": "code",
   "execution_count": 22,
   "id": "28415f10",
   "metadata": {},
   "outputs": [
    {
     "data": {
      "text/plain": [
       "['June 28, 1971']"
      ]
     },
     "execution_count": 22,
     "metadata": {},
     "output_type": "execute_result"
    }
   ],
   "source": [
    "birthdate_pattern=\"(.*) \\(age.*\"\n",
    "birthdate=re.findall(birthdate_pattern,text)\n",
    "birthdate"
   ]
  },
  {
   "cell_type": "code",
   "execution_count": 24,
   "id": "17c4eb12",
   "metadata": {},
   "outputs": [
    {
     "data": {
      "text/plain": [
       "'Pretoria, Transvaal, South Africa'"
      ]
     },
     "execution_count": 24,
     "metadata": {},
     "output_type": "execute_result"
    }
   ],
   "source": [
    "birthplace_pattern=\"Born.*\\n.*\\n(.*)\"\n",
    "birthplace=re.findall(birthplace_pattern,text)\n",
    "birthplace[0]"
   ]
  },
  {
   "cell_type": "code",
   "execution_count": 31,
   "id": "5b7fe346",
   "metadata": {},
   "outputs": [],
   "source": [
    "def extract_info(text):\n",
    "    age=re.findall(age_pattern,text)\n",
    "    name=re.findall(name_pattern,text)\n",
    "    birthdate=re.findall(birthdate_pattern,text)\n",
    "    birthplace=re.findall(birthplace_pattern,text)\n",
    "    info={'age':age[0] ,\n",
    "          'name':name[0],\n",
    "          'birthdate':birthdate[0],\n",
    "          'birthplace':birthplace[0]}\n",
    "    print(info)"
   ]
  },
  {
   "cell_type": "code",
   "execution_count": 32,
   "id": "39553e94",
   "metadata": {},
   "outputs": [
    {
     "name": "stdout",
     "output_type": "stream",
     "text": [
      "{'age': '50', 'name': 'Elon Reeve Musk', 'birthdate': 'June 28, 1971', 'birthplace': 'Pretoria, Transvaal, South Africa'}\n"
     ]
    }
   ],
   "source": [
    "extract_info(text)"
   ]
  },
  {
   "cell_type": "code",
   "execution_count": null,
   "id": "4d4aebf3",
   "metadata": {},
   "outputs": [],
   "source": []
  }
 ],
 "metadata": {
  "kernelspec": {
   "display_name": "Python 3 (ipykernel)",
   "language": "python",
   "name": "python3"
  },
  "language_info": {
   "codemirror_mode": {
    "name": "ipython",
    "version": 3
   },
   "file_extension": ".py",
   "mimetype": "text/x-python",
   "name": "python",
   "nbconvert_exporter": "python",
   "pygments_lexer": "ipython3",
   "version": "3.9.18"
  }
 },
 "nbformat": 4,
 "nbformat_minor": 5
}

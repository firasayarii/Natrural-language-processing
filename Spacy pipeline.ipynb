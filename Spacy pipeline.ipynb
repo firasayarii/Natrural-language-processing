{
 "cells": [
  {
   "cell_type": "code",
   "execution_count": 2,
   "id": "e9ab3c36",
   "metadata": {},
   "outputs": [],
   "source": [
    "import warnings\n",
    "warnings.filterwarnings('ignore')\n",
    "import spacy"
   ]
  },
  {
   "cell_type": "code",
   "execution_count": 3,
   "id": "0725bfa9",
   "metadata": {},
   "outputs": [
    {
     "name": "stdout",
     "output_type": "stream",
     "text": [
      "Captain\n",
      "america\n",
      "ate\n",
      "100\n",
      "$\n",
      "of\n",
      "samosa\n",
      ".\n",
      "Then\n",
      "he\n",
      "said\n",
      "I\n",
      "can\n",
      "do\n",
      "this\n",
      "all\n",
      "day\n",
      ".\n"
     ]
    }
   ],
   "source": [
    "nlp = spacy.blank(\"en\")\n",
    "\n",
    "doc = nlp(\"Captain america ate 100$ of samosa. Then he said I can do this all day.\")\n",
    "\n",
    "for token in doc:\n",
    "    print(token)"
   ]
  },
  {
   "cell_type": "code",
   "execution_count": 5,
   "id": "2e7d2cc0",
   "metadata": {},
   "outputs": [
    {
     "data": {
      "text/plain": [
       "[]"
      ]
     },
     "execution_count": 5,
     "metadata": {},
     "output_type": "execute_result"
    }
   ],
   "source": [
    "nlp.pipe_names"
   ]
  },
  {
   "cell_type": "markdown",
   "id": "b32321f5",
   "metadata": {},
   "source": [
    "### Download a pre-trained pipeline :"
   ]
  },
  {
   "cell_type": "code",
   "execution_count": 23,
   "id": "bc32a614",
   "metadata": {},
   "outputs": [
    {
     "data": {
      "text/plain": [
       "['tok2vec', 'tagger', 'parser', 'attribute_ruler', 'lemmatizer', 'ner']"
      ]
     },
     "execution_count": 23,
     "metadata": {},
     "output_type": "execute_result"
    }
   ],
   "source": [
    "nlp = spacy.load(\"en_core_web_sm\")\n",
    "nlp.pipe_names"
   ]
  },
  {
   "cell_type": "code",
   "execution_count": 7,
   "id": "03000e49",
   "metadata": {},
   "outputs": [
    {
     "name": "stdout",
     "output_type": "stream",
     "text": [
      "Captain  |  proper noun  |  Captain\n",
      "america  |  proper noun  |  america\n",
      "ate  |  verb  |  eat\n",
      "100  |  numeral  |  100\n",
      "$  |  numeral  |  $\n",
      "of  |  adposition  |  of\n",
      "samosa  |  proper noun  |  samosa\n",
      ".  |  punctuation  |  .\n",
      "Then  |  adverb  |  then\n",
      "he  |  pronoun  |  he\n",
      "said  |  verb  |  say\n",
      "I  |  pronoun  |  I\n",
      "can  |  auxiliary  |  can\n",
      "do  |  verb  |  do\n",
      "this  |  pronoun  |  this\n",
      "all  |  determiner  |  all\n",
      "day  |  noun  |  day\n",
      ".  |  punctuation  |  .\n"
     ]
    }
   ],
   "source": [
    "doc = nlp(\"Captain america ate 100$ of samosa. Then he said I can do this all day.\")\n",
    "\n",
    "for token in doc:\n",
    "    print(token, \" | \", spacy.explain(token.pos_), \" | \", token.lemma_)"
   ]
  },
  {
   "cell_type": "code",
   "execution_count": 31,
   "id": "b040f3f7",
   "metadata": {},
   "outputs": [
    {
     "name": "stdout",
     "output_type": "stream",
     "text": [
      "Tesla Inc  |  ORG  |  Companies, agencies, institutions, etc.\n",
      "Twitter Inc  |  ORG  |  Companies, agencies, institutions, etc.\n",
      "$45 billion  |  MONEY  |  Monetary values, including unit\n"
     ]
    }
   ],
   "source": [
    "doc = nlp(\"Tesla Inc is going to acquire Twitter Inc for $45 billion\")\n",
    "for ent in doc.ents:\n",
    "    print(ent.text, \" | \", ent.label_, \" | \", spacy.explain(ent.label_))\n"
   ]
  },
  {
   "cell_type": "code",
   "execution_count": 11,
   "id": "7cebc223",
   "metadata": {},
   "outputs": [
    {
     "data": {
      "text/html": [
       "<span class=\"tex2jax_ignore\"><div class=\"entities\" style=\"line-height: 2.5; direction: ltr\">\n",
       "<mark class=\"entity\" style=\"background: #7aecec; padding: 0.45em 0.6em; margin: 0 0.25em; line-height: 1; border-radius: 0.35em;\">\n",
       "    Tesla Inc\n",
       "    <span style=\"font-size: 0.8em; font-weight: bold; line-height: 1; border-radius: 0.35em; vertical-align: middle; margin-left: 0.5rem\">ORG</span>\n",
       "</mark>\n",
       " is going to acquire twitter for \n",
       "<mark class=\"entity\" style=\"background: #e4e7d2; padding: 0.45em 0.6em; margin: 0 0.25em; line-height: 1; border-radius: 0.35em;\">\n",
       "    $45 billion\n",
       "    <span style=\"font-size: 0.8em; font-weight: bold; line-height: 1; border-radius: 0.35em; vertical-align: middle; margin-left: 0.5rem\">MONEY</span>\n",
       "</mark>\n",
       "</div></span>"
      ],
      "text/plain": [
       "<IPython.core.display.HTML object>"
      ]
     },
     "metadata": {},
     "output_type": "display_data"
    }
   ],
   "source": [
    "from spacy import displacy\n",
    "\n",
    "displacy.render(doc, style=\"ent\")"
   ]
  },
  {
   "cell_type": "code",
   "execution_count": 22,
   "id": "c6746667",
   "metadata": {},
   "outputs": [
    {
     "data": {
      "text/html": [
       "<span class=\"tex2jax_ignore\"><div class=\"entities\" style=\"line-height: 2.5; direction: ltr\">\n",
       "<mark class=\"entity\" style=\"background: #ddd; padding: 0.45em 0.6em; margin: 0 0.25em; line-height: 1; border-radius: 0.35em;\">\n",
       "    Elon Musk\n",
       "    <span style=\"font-size: 0.8em; font-weight: bold; line-height: 1; border-radius: 0.35em; vertical-align: middle; margin-left: 0.5rem\">PER</span>\n",
       "</mark>\n",
       " is the owner of \n",
       "<mark class=\"entity\" style=\"background: #7aecec; padding: 0.45em 0.6em; margin: 0 0.25em; line-height: 1; border-radius: 0.35em;\">\n",
       "    Tesla and X\n",
       "    <span style=\"font-size: 0.8em; font-weight: bold; line-height: 1; border-radius: 0.35em; vertical-align: middle; margin-left: 0.5rem\">ORG</span>\n",
       "</mark>\n",
       "</div></span>"
      ],
      "text/plain": [
       "<IPython.core.display.HTML object>"
      ]
     },
     "metadata": {},
     "output_type": "display_data"
    }
   ],
   "source": [
    "doc2= nlp(\"Elon Musk is the owner of Tesla and X\")\n",
    "displacy.render(doc2, style=\"ent\")"
   ]
  },
  {
   "cell_type": "markdown",
   "id": "91806b80",
   "metadata": {},
   "source": [
    "### French pipeline :"
   ]
  },
  {
   "cell_type": "code",
   "execution_count": 20,
   "id": "ae5871d6",
   "metadata": {},
   "outputs": [
    {
     "name": "stdout",
     "output_type": "stream",
     "text": [
      "Collecting fr-core-news-sm==3.7.0\n",
      "  Downloading https://github.com/explosion/spacy-models/releases/download/fr_core_news_sm-3.7.0/fr_core_news_sm-3.7.0-py3-none-any.whl (16.3 MB)\n",
      "     ---------------------------------------- 0.0/16.3 MB ? eta -:--:--\n",
      "     --------------------------------------- 0.0/16.3 MB 660.6 kB/s eta 0:00:25\n",
      "     ---------------------------------------- 0.1/16.3 MB 1.4 MB/s eta 0:00:12\n",
      "      --------------------------------------- 0.2/16.3 MB 1.6 MB/s eta 0:00:11\n",
      "      --------------------------------------- 0.3/16.3 MB 1.7 MB/s eta 0:00:10\n",
      "     - -------------------------------------- 0.4/16.3 MB 2.0 MB/s eta 0:00:09\n",
      "     - -------------------------------------- 0.6/16.3 MB 2.1 MB/s eta 0:00:08\n",
      "     - -------------------------------------- 0.8/16.3 MB 2.6 MB/s eta 0:00:07\n",
      "     -- ------------------------------------- 1.0/16.3 MB 2.7 MB/s eta 0:00:06\n",
      "     -- ------------------------------------- 1.2/16.3 MB 3.1 MB/s eta 0:00:05\n",
      "     --- ------------------------------------ 1.5/16.3 MB 3.3 MB/s eta 0:00:05\n",
      "     ---- ----------------------------------- 1.7/16.3 MB 3.4 MB/s eta 0:00:05\n",
      "     ---- ----------------------------------- 2.0/16.3 MB 3.7 MB/s eta 0:00:04\n",
      "     ----- ---------------------------------- 2.2/16.3 MB 3.7 MB/s eta 0:00:04\n",
      "     ------ --------------------------------- 2.5/16.3 MB 3.9 MB/s eta 0:00:04\n",
      "     ------ --------------------------------- 2.7/16.3 MB 4.0 MB/s eta 0:00:04\n",
      "     ------- -------------------------------- 3.0/16.3 MB 4.2 MB/s eta 0:00:04\n",
      "     -------- ------------------------------- 3.3/16.3 MB 4.3 MB/s eta 0:00:03\n",
      "     -------- ------------------------------- 3.6/16.3 MB 4.4 MB/s eta 0:00:03\n",
      "     --------- ------------------------------ 3.9/16.3 MB 4.4 MB/s eta 0:00:03\n",
      "     ---------- ----------------------------- 4.1/16.3 MB 4.5 MB/s eta 0:00:03\n",
      "     ---------- ----------------------------- 4.4/16.3 MB 4.6 MB/s eta 0:00:03\n",
      "     ---------- ----------------------------- 4.4/16.3 MB 4.3 MB/s eta 0:00:03\n",
      "     ----------- ---------------------------- 4.5/16.3 MB 4.3 MB/s eta 0:00:03\n",
      "     ----------- ---------------------------- 4.5/16.3 MB 4.3 MB/s eta 0:00:03\n",
      "     ----------- ---------------------------- 4.6/16.3 MB 4.0 MB/s eta 0:00:03\n",
      "     ----------- ---------------------------- 4.6/16.3 MB 4.0 MB/s eta 0:00:03\n",
      "     ----------- ---------------------------- 4.6/16.3 MB 4.0 MB/s eta 0:00:03\n",
      "     ----------- ---------------------------- 4.6/16.3 MB 4.0 MB/s eta 0:00:03\n",
      "     ----------- ---------------------------- 4.6/16.3 MB 4.0 MB/s eta 0:00:03\n",
      "     ----------- ---------------------------- 4.6/16.3 MB 4.0 MB/s eta 0:00:03\n",
      "     ----------- ---------------------------- 4.6/16.3 MB 4.0 MB/s eta 0:00:03\n",
      "     ------------- -------------------------- 5.4/16.3 MB 3.7 MB/s eta 0:00:03\n",
      "     ------------- -------------------------- 5.5/16.3 MB 3.6 MB/s eta 0:00:04\n",
      "     ------------- -------------------------- 5.6/16.3 MB 3.6 MB/s eta 0:00:03\n",
      "     -------------- ------------------------- 5.9/16.3 MB 3.6 MB/s eta 0:00:03\n",
      "     --------------- ------------------------ 6.1/16.3 MB 3.7 MB/s eta 0:00:03\n",
      "     --------------- ------------------------ 6.4/16.3 MB 3.7 MB/s eta 0:00:03\n",
      "     ---------------- ----------------------- 6.6/16.3 MB 3.8 MB/s eta 0:00:03\n",
      "     ----------------- ---------------------- 6.9/16.3 MB 3.8 MB/s eta 0:00:03\n",
      "     ----------------- ---------------------- 7.2/16.3 MB 3.8 MB/s eta 0:00:03\n",
      "     ------------------ --------------------- 7.5/16.3 MB 3.9 MB/s eta 0:00:03\n",
      "     ------------------- -------------------- 7.7/16.3 MB 4.0 MB/s eta 0:00:03\n",
      "     ------------------- -------------------- 8.0/16.3 MB 4.0 MB/s eta 0:00:03\n",
      "     -------------------- ------------------- 8.3/16.3 MB 4.1 MB/s eta 0:00:02\n",
      "     --------------------- ------------------ 8.6/16.3 MB 4.1 MB/s eta 0:00:02\n",
      "     --------------------- ------------------ 8.8/16.3 MB 4.1 MB/s eta 0:00:02\n",
      "     ---------------------- ----------------- 9.1/16.3 MB 4.2 MB/s eta 0:00:02\n",
      "     ----------------------- ---------------- 9.4/16.3 MB 4.2 MB/s eta 0:00:02\n",
      "     ----------------------- ---------------- 9.7/16.3 MB 4.2 MB/s eta 0:00:02\n",
      "     ------------------------ --------------- 9.9/16.3 MB 4.2 MB/s eta 0:00:02\n",
      "     ------------------------ --------------- 10.1/16.3 MB 4.3 MB/s eta 0:00:02\n",
      "     ------------------------- -------------- 10.5/16.3 MB 4.5 MB/s eta 0:00:02\n",
      "     -------------------------- ------------- 10.8/16.3 MB 4.6 MB/s eta 0:00:02\n",
      "     --------------------------- ------------ 11.0/16.3 MB 4.7 MB/s eta 0:00:02\n",
      "     --------------------------- ------------ 11.3/16.3 MB 4.7 MB/s eta 0:00:02\n",
      "     ---------------------------- ----------- 11.6/16.3 MB 4.7 MB/s eta 0:00:01\n",
      "     ----------------------------- ---------- 11.9/16.3 MB 4.7 MB/s eta 0:00:01\n",
      "     ----------------------------- ---------- 12.2/16.3 MB 4.7 MB/s eta 0:00:01\n",
      "     ------------------------------ --------- 12.4/16.3 MB 4.8 MB/s eta 0:00:01\n",
      "     ------------------------------- -------- 12.6/16.3 MB 4.7 MB/s eta 0:00:01\n",
      "     ------------------------------- -------- 13.0/16.3 MB 4.8 MB/s eta 0:00:01\n",
      "     -------------------------------- ------- 13.2/16.3 MB 4.7 MB/s eta 0:00:01\n",
      "     --------------------------------- ------ 13.5/16.3 MB 4.7 MB/s eta 0:00:01\n",
      "     --------------------------------- ------ 13.8/16.3 MB 4.7 MB/s eta 0:00:01\n",
      "     ---------------------------------- ----- 14.1/16.3 MB 4.8 MB/s eta 0:00:01\n",
      "     ----------------------------------- ---- 14.4/16.3 MB 4.8 MB/s eta 0:00:01\n",
      "     ------------------------------------ --- 14.7/16.3 MB 5.0 MB/s eta 0:00:01\n",
      "     ------------------------------------ --- 14.9/16.3 MB 6.1 MB/s eta 0:00:01\n",
      "     ------------------------------------- -- 15.3/16.3 MB 5.8 MB/s eta 0:00:01\n",
      "     ------------------------------------- -- 15.4/16.3 MB 5.7 MB/s eta 0:00:01\n",
      "     -------------------------------------- - 15.9/16.3 MB 5.9 MB/s eta 0:00:01\n",
      "     ---------------------------------------  16.1/16.3 MB 6.0 MB/s eta 0:00:01\n",
      "     ---------------------------------------  16.3/16.3 MB 6.0 MB/s eta 0:00:01\n",
      "     ---------------------------------------  16.3/16.3 MB 6.0 MB/s eta 0:00:01\n",
      "     ---------------------------------------- 16.3/16.3 MB 5.6 MB/s eta 0:00:00\n",
      "Requirement already satisfied: spacy<3.8.0,>=3.7.0 in c:\\users\\msi\\anaconda3\\envs\\tf-gpu\\lib\\site-packages (from fr-core-news-sm==3.7.0) (3.7.5)\n",
      "Requirement already satisfied: spacy-legacy<3.1.0,>=3.0.11 in c:\\users\\msi\\anaconda3\\envs\\tf-gpu\\lib\\site-packages (from spacy<3.8.0,>=3.7.0->fr-core-news-sm==3.7.0) (3.0.12)\n",
      "Requirement already satisfied: spacy-loggers<2.0.0,>=1.0.0 in c:\\users\\msi\\anaconda3\\envs\\tf-gpu\\lib\\site-packages (from spacy<3.8.0,>=3.7.0->fr-core-news-sm==3.7.0) (1.0.5)\n",
      "Requirement already satisfied: murmurhash<1.1.0,>=0.28.0 in c:\\users\\msi\\anaconda3\\envs\\tf-gpu\\lib\\site-packages (from spacy<3.8.0,>=3.7.0->fr-core-news-sm==3.7.0) (1.0.10)\n",
      "Requirement already satisfied: cymem<2.1.0,>=2.0.2 in c:\\users\\msi\\anaconda3\\envs\\tf-gpu\\lib\\site-packages (from spacy<3.8.0,>=3.7.0->fr-core-news-sm==3.7.0) (2.0.8)\n",
      "Requirement already satisfied: preshed<3.1.0,>=3.0.2 in c:\\users\\msi\\anaconda3\\envs\\tf-gpu\\lib\\site-packages (from spacy<3.8.0,>=3.7.0->fr-core-news-sm==3.7.0) (3.0.9)\n",
      "Requirement already satisfied: thinc<8.3.0,>=8.2.2 in c:\\users\\msi\\anaconda3\\envs\\tf-gpu\\lib\\site-packages (from spacy<3.8.0,>=3.7.0->fr-core-news-sm==3.7.0) (8.2.5)\n",
      "Requirement already satisfied: wasabi<1.2.0,>=0.9.1 in c:\\users\\msi\\anaconda3\\envs\\tf-gpu\\lib\\site-packages (from spacy<3.8.0,>=3.7.0->fr-core-news-sm==3.7.0) (1.1.3)\n",
      "Requirement already satisfied: srsly<3.0.0,>=2.4.3 in c:\\users\\msi\\anaconda3\\envs\\tf-gpu\\lib\\site-packages (from spacy<3.8.0,>=3.7.0->fr-core-news-sm==3.7.0) (2.4.8)\n",
      "Requirement already satisfied: catalogue<2.1.0,>=2.0.6 in c:\\users\\msi\\anaconda3\\envs\\tf-gpu\\lib\\site-packages (from spacy<3.8.0,>=3.7.0->fr-core-news-sm==3.7.0) (2.0.10)\n",
      "Requirement already satisfied: weasel<0.5.0,>=0.1.0 in c:\\users\\msi\\anaconda3\\envs\\tf-gpu\\lib\\site-packages (from spacy<3.8.0,>=3.7.0->fr-core-news-sm==3.7.0) (0.4.1)\n",
      "Requirement already satisfied: typer<1.0.0,>=0.3.0 in c:\\users\\msi\\anaconda3\\envs\\tf-gpu\\lib\\site-packages (from spacy<3.8.0,>=3.7.0->fr-core-news-sm==3.7.0) (0.12.3)\n",
      "Requirement already satisfied: tqdm<5.0.0,>=4.38.0 in c:\\users\\msi\\anaconda3\\envs\\tf-gpu\\lib\\site-packages (from spacy<3.8.0,>=3.7.0->fr-core-news-sm==3.7.0) (4.66.1)\n",
      "Requirement already satisfied: requests<3.0.0,>=2.13.0 in c:\\users\\msi\\anaconda3\\envs\\tf-gpu\\lib\\site-packages (from spacy<3.8.0,>=3.7.0->fr-core-news-sm==3.7.0) (2.31.0)\n",
      "Requirement already satisfied: pydantic!=1.8,!=1.8.1,<3.0.0,>=1.7.4 in c:\\users\\msi\\anaconda3\\envs\\tf-gpu\\lib\\site-packages (from spacy<3.8.0,>=3.7.0->fr-core-news-sm==3.7.0) (1.10.15)\n",
      "Requirement already satisfied: jinja2 in c:\\users\\msi\\anaconda3\\envs\\tf-gpu\\lib\\site-packages (from spacy<3.8.0,>=3.7.0->fr-core-news-sm==3.7.0) (3.1.2)\n",
      "Requirement already satisfied: setuptools in c:\\users\\msi\\anaconda3\\envs\\tf-gpu\\lib\\site-packages (from spacy<3.8.0,>=3.7.0->fr-core-news-sm==3.7.0) (68.0.0)\n",
      "Requirement already satisfied: packaging>=20.0 in c:\\users\\msi\\anaconda3\\envs\\tf-gpu\\lib\\site-packages (from spacy<3.8.0,>=3.7.0->fr-core-news-sm==3.7.0) (23.1)\n",
      "Requirement already satisfied: langcodes<4.0.0,>=3.2.0 in c:\\users\\msi\\anaconda3\\envs\\tf-gpu\\lib\\site-packages (from spacy<3.8.0,>=3.7.0->fr-core-news-sm==3.7.0) (3.4.0)\n",
      "Requirement already satisfied: numpy>=1.19.0 in c:\\users\\msi\\anaconda3\\envs\\tf-gpu\\lib\\site-packages (from spacy<3.8.0,>=3.7.0->fr-core-news-sm==3.7.0) (1.23.0)\n",
      "Requirement already satisfied: language-data>=1.2 in c:\\users\\msi\\anaconda3\\envs\\tf-gpu\\lib\\site-packages (from langcodes<4.0.0,>=3.2.0->spacy<3.8.0,>=3.7.0->fr-core-news-sm==3.7.0) (1.2.0)\n",
      "Requirement already satisfied: typing-extensions>=4.2.0 in c:\\users\\msi\\anaconda3\\envs\\tf-gpu\\lib\\site-packages (from pydantic!=1.8,!=1.8.1,<3.0.0,>=1.7.4->spacy<3.8.0,>=3.7.0->fr-core-news-sm==3.7.0) (4.11.0)\n",
      "Requirement already satisfied: charset-normalizer<4,>=2 in c:\\users\\msi\\anaconda3\\envs\\tf-gpu\\lib\\site-packages (from requests<3.0.0,>=2.13.0->spacy<3.8.0,>=3.7.0->fr-core-news-sm==3.7.0) (3.3.0)\n",
      "Requirement already satisfied: idna<4,>=2.5 in c:\\users\\msi\\anaconda3\\envs\\tf-gpu\\lib\\site-packages (from requests<3.0.0,>=2.13.0->spacy<3.8.0,>=3.7.0->fr-core-news-sm==3.7.0) (3.4)\n",
      "Requirement already satisfied: urllib3<3,>=1.21.1 in c:\\users\\msi\\anaconda3\\envs\\tf-gpu\\lib\\site-packages (from requests<3.0.0,>=2.13.0->spacy<3.8.0,>=3.7.0->fr-core-news-sm==3.7.0) (1.26.18)\n",
      "Requirement already satisfied: certifi>=2017.4.17 in c:\\users\\msi\\anaconda3\\envs\\tf-gpu\\lib\\site-packages (from requests<3.0.0,>=2.13.0->spacy<3.8.0,>=3.7.0->fr-core-news-sm==3.7.0) (2023.7.22)\n",
      "Requirement already satisfied: blis<0.8.0,>=0.7.8 in c:\\users\\msi\\anaconda3\\envs\\tf-gpu\\lib\\site-packages (from thinc<8.3.0,>=8.2.2->spacy<3.8.0,>=3.7.0->fr-core-news-sm==3.7.0) (0.7.11)\n",
      "Requirement already satisfied: confection<1.0.0,>=0.0.1 in c:\\users\\msi\\anaconda3\\envs\\tf-gpu\\lib\\site-packages (from thinc<8.3.0,>=8.2.2->spacy<3.8.0,>=3.7.0->fr-core-news-sm==3.7.0) (0.1.5)\n",
      "Requirement already satisfied: colorama in c:\\users\\msi\\anaconda3\\envs\\tf-gpu\\lib\\site-packages (from tqdm<5.0.0,>=4.38.0->spacy<3.8.0,>=3.7.0->fr-core-news-sm==3.7.0) (0.4.6)\n",
      "Requirement already satisfied: click>=8.0.0 in c:\\users\\msi\\anaconda3\\envs\\tf-gpu\\lib\\site-packages (from typer<1.0.0,>=0.3.0->spacy<3.8.0,>=3.7.0->fr-core-news-sm==3.7.0) (8.1.3)\n",
      "Requirement already satisfied: shellingham>=1.3.0 in c:\\users\\msi\\anaconda3\\envs\\tf-gpu\\lib\\site-packages (from typer<1.0.0,>=0.3.0->spacy<3.8.0,>=3.7.0->fr-core-news-sm==3.7.0) (1.5.4)\n",
      "Requirement already satisfied: rich>=10.11.0 in c:\\users\\msi\\anaconda3\\envs\\tf-gpu\\lib\\site-packages (from typer<1.0.0,>=0.3.0->spacy<3.8.0,>=3.7.0->fr-core-news-sm==3.7.0) (13.7.0)\n",
      "Requirement already satisfied: cloudpathlib<1.0.0,>=0.7.0 in c:\\users\\msi\\anaconda3\\envs\\tf-gpu\\lib\\site-packages (from weasel<0.5.0,>=0.1.0->spacy<3.8.0,>=3.7.0->fr-core-news-sm==3.7.0) (0.18.1)\n",
      "Requirement already satisfied: smart-open<8.0.0,>=5.2.1 in c:\\users\\msi\\anaconda3\\envs\\tf-gpu\\lib\\site-packages (from weasel<0.5.0,>=0.1.0->spacy<3.8.0,>=3.7.0->fr-core-news-sm==3.7.0) (7.0.4)\n",
      "Requirement already satisfied: MarkupSafe>=2.0 in c:\\users\\msi\\anaconda3\\envs\\tf-gpu\\lib\\site-packages (from jinja2->spacy<3.8.0,>=3.7.0->fr-core-news-sm==3.7.0) (2.1.1)\n",
      "Requirement already satisfied: marisa-trie>=0.7.7 in c:\\users\\msi\\anaconda3\\envs\\tf-gpu\\lib\\site-packages (from language-data>=1.2->langcodes<4.0.0,>=3.2.0->spacy<3.8.0,>=3.7.0->fr-core-news-sm==3.7.0) (1.2.0)\n",
      "Requirement already satisfied: markdown-it-py>=2.2.0 in c:\\users\\msi\\anaconda3\\envs\\tf-gpu\\lib\\site-packages (from rich>=10.11.0->typer<1.0.0,>=0.3.0->spacy<3.8.0,>=3.7.0->fr-core-news-sm==3.7.0) (3.0.0)\n",
      "Requirement already satisfied: pygments<3.0.0,>=2.13.0 in c:\\users\\msi\\anaconda3\\envs\\tf-gpu\\lib\\site-packages (from rich>=10.11.0->typer<1.0.0,>=0.3.0->spacy<3.8.0,>=3.7.0->fr-core-news-sm==3.7.0) (2.15.1)\n",
      "Requirement already satisfied: wrapt in c:\\users\\msi\\anaconda3\\envs\\tf-gpu\\lib\\site-packages (from smart-open<8.0.0,>=5.2.1->weasel<0.5.0,>=0.1.0->spacy<3.8.0,>=3.7.0->fr-core-news-sm==3.7.0) (1.14.1)\n",
      "Requirement already satisfied: mdurl~=0.1 in c:\\users\\msi\\anaconda3\\envs\\tf-gpu\\lib\\site-packages (from markdown-it-py>=2.2.0->rich>=10.11.0->typer<1.0.0,>=0.3.0->spacy<3.8.0,>=3.7.0->fr-core-news-sm==3.7.0) (0.1.2)\n",
      "Installing collected packages: fr-core-news-sm\n",
      "Successfully installed fr-core-news-sm-3.7.0\n",
      "\u001b[38;5;2m[+] Download and installation successful\u001b[0m\n",
      "You can now load the package via spacy.load('fr_core_news_sm')\n"
     ]
    },
    {
     "name": "stderr",
     "output_type": "stream",
     "text": [
      "C:\\Users\\msi\\anaconda3\\envs\\tf-gpu\\lib\\site-packages\\numpy\\_distributor_init.py:30: UserWarning: loaded more than 1 DLL from .libs:\n",
      "C:\\Users\\msi\\anaconda3\\envs\\tf-gpu\\lib\\site-packages\\numpy\\.libs\\libopenblas.FB5AE2TYXYH2IJRDKGDGQ3XBKLKTF43H.gfortran-win_amd64.dll\n",
      "C:\\Users\\msi\\anaconda3\\envs\\tf-gpu\\lib\\site-packages\\numpy\\.libs\\libopenblas64__v0.3.21-gcc_10_3_0.dll\n",
      "  warnings.warn(\"loaded more than 1 DLL from .libs:\"\n",
      "WARNING: Ignoring invalid distribution -ensorflow-intel (c:\\users\\msi\\appdata\\roaming\\python\\python39\\site-packages)\n",
      "WARNING: Ignoring invalid distribution -rotobuf (c:\\users\\msi\\appdata\\roaming\\python\\python39\\site-packages)\n",
      "WARNING: Ignoring invalid distribution -ensorflow-intel (c:\\users\\msi\\appdata\\roaming\\python\\python39\\site-packages)\n",
      "WARNING: Ignoring invalid distribution -rotobuf (c:\\users\\msi\\appdata\\roaming\\python\\python39\\site-packages)\n",
      "WARNING: Ignoring invalid distribution - (c:\\users\\msi\\anaconda3\\envs\\tf-gpu\\lib\\site-packages)\n",
      "WARNING: Ignoring invalid distribution -pencv-python (c:\\users\\msi\\anaconda3\\envs\\tf-gpu\\lib\\site-packages)\n",
      "WARNING: Ignoring invalid distribution -ensorflow-intel (c:\\users\\msi\\appdata\\roaming\\python\\python39\\site-packages)\n",
      "WARNING: Ignoring invalid distribution -rotobuf (c:\\users\\msi\\appdata\\roaming\\python\\python39\\site-packages)\n",
      "WARNING: Ignoring invalid distribution - (c:\\users\\msi\\anaconda3\\envs\\tf-gpu\\lib\\site-packages)\n",
      "WARNING: Ignoring invalid distribution -pencv-python (c:\\users\\msi\\anaconda3\\envs\\tf-gpu\\lib\\site-packages)\n",
      "WARNING: Ignoring invalid distribution -ensorflow-intel (c:\\users\\msi\\appdata\\roaming\\python\\python39\\site-packages)\n",
      "WARNING: Ignoring invalid distribution -rotobuf (c:\\users\\msi\\appdata\\roaming\\python\\python39\\site-packages)\n",
      "WARNING: Ignoring invalid distribution -ensorflow-intel (c:\\users\\msi\\appdata\\roaming\\python\\python39\\site-packages)\n",
      "WARNING: Ignoring invalid distribution -rotobuf (c:\\users\\msi\\appdata\\roaming\\python\\python39\\site-packages)\n",
      "WARNING: Ignoring invalid distribution -ensorflow-intel (c:\\users\\msi\\appdata\\roaming\\python\\python39\\site-packages)\n",
      "WARNING: Ignoring invalid distribution -rotobuf (c:\\users\\msi\\appdata\\roaming\\python\\python39\\site-packages)\n"
     ]
    }
   ],
   "source": [
    "!python -m spacy download fr_core_news_sm"
   ]
  },
  {
   "cell_type": "code",
   "execution_count": 32,
   "id": "de3bd2db",
   "metadata": {},
   "outputs": [],
   "source": [
    "nlp_f=spacy.load('fr_core_news_sm')"
   ]
  },
  {
   "cell_type": "code",
   "execution_count": 38,
   "id": "43c5ed5a",
   "metadata": {},
   "outputs": [
    {
     "name": "stdout",
     "output_type": "stream",
     "text": [
      "Tesla Inc  |  ORG  |  Companies, agencies, institutions, etc.\n",
      "Twitter  |  MISC  |  Miscellaneous entities, e.g. events, nationalities, products or works of art\n"
     ]
    }
   ],
   "source": [
    "doc3 = nlp_f(\"Tesla Inc va racheter Twitter pour $45 milliards de dollars\")\n",
    "for ent in doc3.ents:\n",
    "    print(ent.text, \" | \", ent.label_, \" | \", spacy.explain(ent.label_))"
   ]
  },
  {
   "cell_type": "code",
   "execution_count": 39,
   "id": "37c7c086",
   "metadata": {},
   "outputs": [
    {
     "name": "stdout",
     "output_type": "stream",
     "text": [
      "Tesla  |  PROPN  |  Tesla\n",
      "Inc  |  PROPN  |  Inc\n",
      "is  |  AUX  |  be\n",
      "going  |  VERB  |  go\n",
      "to  |  PART  |  to\n",
      "acquire  |  VERB  |  acquire\n",
      "twitter  |  NOUN  |  twitter\n",
      "for  |  ADP  |  for\n",
      "$  |  SYM  |  $\n",
      "45  |  NUM  |  45\n",
      "billion  |  NUM  |  billion\n"
     ]
    }
   ],
   "source": [
    "for token in doc:\n",
    "    print(token, \" | \", token.pos_, \" | \", token.lemma_)"
   ]
  },
  {
   "cell_type": "code",
   "execution_count": null,
   "id": "81fb9ad9",
   "metadata": {},
   "outputs": [],
   "source": []
  }
 ],
 "metadata": {
  "kernelspec": {
   "display_name": "Python 3 (ipykernel)",
   "language": "python",
   "name": "python3"
  },
  "language_info": {
   "codemirror_mode": {
    "name": "ipython",
    "version": 3
   },
   "file_extension": ".py",
   "mimetype": "text/x-python",
   "name": "python",
   "nbconvert_exporter": "python",
   "pygments_lexer": "ipython3",
   "version": "3.9.18"
  }
 },
 "nbformat": 4,
 "nbformat_minor": 5
}
